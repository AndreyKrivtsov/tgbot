{
 "cells": [
  {
   "cell_type": "code",
   "execution_count": 18,
   "metadata": {
    "ExecuteTime": {
     "end_time": "2025-02-15T12:40:19.191594Z",
     "start_time": "2025-02-15T12:40:19.188945Z"
    }
   },
   "outputs": [],
   "source": [
    "import numpy as np\n",
    "import pandas as pd\n",
    "import matplotlib.pyplot as plt\n",
    "from sklearn.utils import compute_class_weight"
   ]
  },
  {
   "cell_type": "code",
   "execution_count": 19,
   "metadata": {
    "ExecuteTime": {
     "end_time": "2025-02-15T12:39:21.907659Z",
     "start_time": "2025-02-15T12:39:20.962007Z"
    }
   },
   "outputs": [
    {
     "data": {
      "application/vnd.microsoft.datawrangler.viewer.v0+json": {
       "columns": [
        {
         "name": "index",
         "rawType": "int64",
         "type": "integer"
        },
        {
         "name": "id",
         "rawType": "int64",
         "type": "integer"
        },
        {
         "name": "chat_id",
         "rawType": "int64",
         "type": "integer"
        },
        {
         "name": "user_id",
         "rawType": "int64",
         "type": "integer"
        },
        {
         "name": "message_id",
         "rawType": "int64",
         "type": "integer"
        },
        {
         "name": "message",
         "rawType": "object",
         "type": "string"
        },
        {
         "name": "message_info",
         "rawType": "object",
         "type": "string"
        },
        {
         "name": "timestamp",
         "rawType": "object",
         "type": "string"
        },
        {
         "name": "spam",
         "rawType": "object",
         "type": "string"
        }
       ],
       "conversionMethod": "pd.DataFrame",
       "ref": "cfd4a6dd-674e-43c5-8194-7d000b5ead1f",
       "rows": [
        [
         "0",
         "28450",
         "-1001370017010",
         "884756749",
         "177797",
         "Мне референтка сказала что как принесёшь серт по англ типо айлс кембридж тп сразу 4 кредита засчитают",
         "{\"message_id\": 177797, \"date\": 1736516316, \"chat\": {\"id\": -1001370017010, \"type\": \"supergroup\", \"title\": \"\\u010cVUT FIT\", \"username\": \"cvut_fit\", \"is_forum\": true}, \"message_thread_id\": 89045, \"from_user\": {\"id\": 884756749, \"is_bot\": false, \"first_name\": \"\\u0394LI\\u041c228\"}, \"is_topic_message\": true, \"reply_to_message\": {\"message_id\": 89045, \"date\": 1670357918, \"chat\": {\"id\": -1001370017010, \"type\": \"supergroup\", \"title\": \"\\u010cVUT FIT\", \"username\": \"cvut_fit\", \"is_forum\": true}, \"message_thread_id\": 89045, \"from_user\": {\"id\": 268388996, \"is_bot\": false, \"first_name\": \"Azamat\", \"username\": \"vsem_azamat\", \"language_code\": \"ru\", \"is_premium\": true}, \"is_topic_message\": true, \"forum_topic_created\": {\"name\": \"\\u0412\\u043e\\u043f\\u0440\\u043e\\u0441 - \\u041e\\u0442\\u0432\\u0435\\u0442\", \"icon_color\": 16478047, \"icon_custom_emoji_id\": \"5377316857231450742\"}}, \"text\": \"\\u041c\\u043d\\u0435 \\u0440\\u0435\\u0444\\u0435\\u0440\\u0435\\u043d\\u0442\\u043a\\u0430 \\u0441\\u043a\\u0430\\u0437\\u0430\\u043b\\u0430 \\u0447\\u0442\\u043e \\u043a\\u0430\\u043a \\u043f\\u0440\\u0438\\u043d\\u0435\\u0441\\u0451\\u0448\\u044c \\u0441\\u0435\\u0440\\u0442 \\u043f\\u043e \\u0430\\u043d\\u0433\\u043b \\u0442\\u0438\\u043f\\u043e \\u0430\\u0439\\u043b\\u0441 \\u043a\\u0435\\u043c\\u0431\\u0440\\u0438\\u0434\\u0436 \\u0442\\u043f \\u0441\\u0440\\u0430\\u0437\\u0443 4 \\u043a\\u0440\\u0435\\u0434\\u0438\\u0442\\u0430 \\u0437\\u0430\\u0441\\u0447\\u0438\\u0442\\u0430\\u044e\\u0442\"}",
         "2025-01-10 13:38:36.787444",
         "f"
        ],
        [
         "1",
         "28418",
         "-1001358408127",
         "6615370312",
         "30362",
         "До нашої команди. Гарантуємо розвиток,підтримку та гідну оплату праці. НЕ ВІДДАЛЕНО",
         "{\"message_id\": 30362, \"date\": 1736514294, \"chat\": {\"id\": -1001358408127, \"type\": \"supergroup\", \"title\": \"\\u010cVUT FEL\", \"username\": \"cvut_fel\"}, \"from_user\": {\"id\": 6615370312, \"is_bot\": false, \"first_name\": \"\\u041b\\u0438\\u0441\\u0430\", \"username\": \"foxwork3\", \"is_premium\": true}, \"text\": \"\\u0414\\u043e \\u043d\\u0430\\u0448\\u043e\\u0457 \\u043a\\u043e\\u043c\\u0430\\u043d\\u0434\\u0438. \\u0413\\u0430\\u0440\\u0430\\u043d\\u0442\\u0443\\u0454\\u043c\\u043e \\u0440\\u043e\\u0437\\u0432\\u0438\\u0442\\u043e\\u043a,\\u043f\\u0456\\u0434\\u0442\\u0440\\u0438\\u043c\\u043a\\u0443 \\u0442\\u0430 \\u0433\\u0456\\u0434\\u043d\\u0443 \\u043e\\u043f\\u043b\\u0430\\u0442\\u0443 \\u043f\\u0440\\u0430\\u0446\\u0456. \\u041d\\u0415 \\u0412\\u0406\\u0414\\u0414\\u0410\\u041b\\u0415\\u041d\\u041e\"}",
         "2025-01-10 13:04:55.388717",
         "t"
        ],
        [
         "2",
         "28452",
         "-1001684546093",
         "842671585",
         "189034",
         "И с кофе для меня",
         "{\"message_id\": 189034, \"date\": 1736516974, \"chat\": {\"id\": -1001684546093, \"type\": \"supergroup\", \"title\": \"NTK | \\u0443\\u0447\\u0438\\u043c\\u0441\\u044f \\u0438 \\u0441\\u043f\\u043e\\u0440\\u0442\\u0443\\u0435\\u043c\", \"username\": \"chat_ntk\"}, \"message_thread_id\": 189031, \"from_user\": {\"id\": 842671585, \"is_bot\": false, \"first_name\": \"\\u0410\\u043d\\u044f\", \"last_name\": \"\\u0410\\u0440\\u0441\\u0435\\u043d\\u044c\\u0435\\u0432\\u0430\", \"username\": \"Inst_roskosh\", \"language_code\": \"ru\"}, \"reply_to_message\": {\"message_id\": 189031, \"date\": 1736515809, \"chat\": {\"id\": -1001684546093, \"type\": \"supergroup\", \"title\": \"NTK | \\u0443\\u0447\\u0438\\u043c\\u0441\\u044f \\u0438 \\u0441\\u043f\\u043e\\u0440\\u0442\\u0443\\u0435\\u043c\", \"username\": \"chat_ntk\"}, \"from_user\": {\"id\": 2023802489, \"is_bot\": false, \"first_name\": \"Vanya\", \"username\": \"morskoj_kot1k\", \"is_premium\": true}, \"sender_boost_count\": 4, \"text\": \"\\u0422\\u043e\\u043b\\u044c\\u043a\\u043e \\u0434\\u043b\\u044f \\u0442\\u0435\\u0431\\u044f\"}, \"text\": \"\\u0418 \\u0441 \\u043a\\u043e\\u0444\\u0435 \\u0434\\u043b\\u044f \\u043c\\u0435\\u043d\\u044f\"}",
         "2025-01-10 13:49:35.320844",
         "f"
        ],
        [
         "3",
         "28457",
         "-1001684546093",
         "232278264",
         "189037",
         "Должно быть несколько, попробую посмотреть онлайн",
         "{\"message_id\": 189037, \"date\": 1736518231, \"chat\": {\"id\": -1001684546093, \"type\": \"supergroup\", \"title\": \"NTK | \\u0443\\u0447\\u0438\\u043c\\u0441\\u044f \\u0438 \\u0441\\u043f\\u043e\\u0440\\u0442\\u0443\\u0435\\u043c\", \"username\": \"chat_ntk\"}, \"message_thread_id\": 188964, \"from_user\": {\"id\": 232278264, \"is_bot\": false, \"first_name\": \"Nadezda\", \"last_name\": \"Firsova\", \"username\": \"nadezda_firsova\"}, \"reply_to_message\": {\"message_id\": 189036, \"date\": 1736518144, \"chat\": {\"id\": -1001684546093, \"type\": \"supergroup\", \"title\": \"NTK | \\u0443\\u0447\\u0438\\u043c\\u0441\\u044f \\u0438 \\u0441\\u043f\\u043e\\u0440\\u0442\\u0443\\u0435\\u043c\", \"username\": \"chat_ntk\"}, \"message_thread_id\": 188964, \"from_user\": {\"id\": 459854737, \"is_bot\": false, \"first_name\": \"Little_Rickey\", \"username\": \"little_Rickkey\"}, \"text\": \"\\u0410 \\u043e\\u043d \\u0442\\u0430\\u043c \\u043e\\u0434\\u0438\\u043d?\"}, \"text\": \"\\u0414\\u043e\\u043b\\u0436\\u043d\\u043e \\u0431\\u044b\\u0442\\u044c \\u043d\\u0435\\u0441\\u043a\\u043e\\u043b\\u044c\\u043a\\u043e, \\u043f\\u043e\\u043f\\u0440\\u043e\\u0431\\u0443\\u044e \\u043f\\u043e\\u0441\\u043c\\u043e\\u0442\\u0440\\u0435\\u0442\\u044c \\u043e\\u043d\\u043b\\u0430\\u0439\\u043d\"}",
         "2025-01-10 14:10:32.135793",
         "f"
        ],
        [
         "4",
         "28460",
         "-1001292637469",
         "268388996",
         "97377",
         "/spam@konnekt_moder_bot",
         "{\"message_id\": 97377, \"date\": 1736518665, \"chat\": {\"id\": -1001292637469, \"type\": \"supergroup\", \"title\": \"V\\u0160E\", \"username\": \"vse_chat\"}, \"message_thread_id\": 97376, \"from_user\": {\"id\": 268388996, \"is_bot\": false, \"first_name\": \"Azamat\", \"username\": \"vsem_azamat\", \"language_code\": \"en\", \"is_premium\": true}, \"reply_to_message\": {\"message_id\": 97376, \"date\": 1736518500, \"chat\": {\"id\": -1001292637469, \"type\": \"supergroup\", \"title\": \"V\\u0160E\", \"username\": \"vse_chat\"}, \"from_user\": {\"id\": 5363403336, \"is_bot\": false, \"first_name\": \"\\u041c\\u0430\\u0440\\u0438\\u043d\\u0430\", \"is_premium\": true}, \"text\": \"\\u041f\\u0440\\u0438\\u0432e\\u0442, \\u043dy\\u0436\\u043d\\u044b  3 \\u0447\\u0435\\u043b\\u043e\\u0432\\u0435\\u043a\\u0430 .\\u041d\\u0443\\u0436\\u0435\\u043d \\u0442\\u0435\\u043b\\u0435\\u0444\\u043e\\u043d \\u0438 \\u0434\\u0432\\u0430 \\u0447\\u0430\\u0441\\u0430 \\u0441\\u0432\\u043e\\u0431\\u043e\\u0434\\u043d\\u043e\\u0433\\u043e \\u0432\\u0440\\u0435\\u043c\\u0435\\u043d\\u0438 \\u0432 \\u0434\\u0435\\u043d\\u044c. \\u041e\\u0442 150 \\u0437e\\u043b\\u0451\\u043d\\u044b\\u0445 \\u0432 \\u0434e\\u043d\\u044c. \\u0423\\u0434\\u0430\\u043b\\u0451\\u043d\\u043da\\u044f \\u0441\\u0444\\u0435\\u0440\\u0430, \\u041fo\\u0434\\u0440o\\u0431\\u043do\\u0441\\u0442\\u0438 + @Inna_Lain1\", \"entities\": [{\"type\": \"mention\", \"offset\": 133, \"length\": 11}]}, \"text\": \"/spam@konnekt_moder_bot\", \"entities\": [{\"type\": \"bot_command\", \"offset\": 0, \"length\": 23}]}",
         "2025-01-10 14:17:45.726193",
         "f"
        ],
        [
         "5",
         "28462",
         "-1001370017010",
         "1260268668",
         "177802",
         "у меня не смогут кредиты забрать",
         "{\"message_id\": 177802, \"date\": 1736519005, \"chat\": {\"id\": -1001370017010, \"type\": \"supergroup\", \"title\": \"\\u010cVUT FIT\", \"username\": \"cvut_fit\", \"is_forum\": true}, \"message_thread_id\": 89045, \"from_user\": {\"id\": 1260268668, \"is_bot\": false, \"first_name\": \"\\u041c\\u0430\\u0440\\u0443\\u0441\\u044f\", \"username\": \"trnvskaya\", \"is_premium\": true}, \"is_topic_message\": true, \"reply_to_message\": {\"message_id\": 177800, \"date\": 1736518533, \"chat\": {\"id\": -1001370017010, \"type\": \"supergroup\", \"title\": \"\\u010cVUT FIT\", \"username\": \"cvut_fit\", \"is_forum\": true}, \"message_thread_id\": 89045, \"from_user\": {\"id\": 558530141, \"is_bot\": false, \"first_name\": \"samarrik\", \"username\": \"samarrik\", \"is_premium\": true}, \"is_topic_message\": true, \"edit_date\": 1736518562, \"text\": \"\\u0414\\u0430\\u0434\\u0430 (\\u0432\\u0435\\u0440\\u043d\\u0435\\u0435 \\u043d\\u0435 \\u0445\\u043e\\u0447\\u0443 \\u0442\\u0435\\u0440\\u044f\\u0442\\u044c \\u043a\\u0440\\u0435\\u0434\\u0438\\u0442\\u044b \\u0437\\u0430 A2L, \\u043d\\u0435 \\u0437\\u0440\\u044f \\u0436\\u0435 \\u044f \\u0442\\u0430\\u043c \\u043e\\u0442\\u0441\\u0438\\u0434\\u0435\\u043b)\\n\\n\\u0421\\u0435\\u0440\\u0442\\u0438\\u0444\\u0438\\u043a\\u0430\\u0442 \\u043f\\u043e\\u043b\\u0443\\u0447\\u0438\\u043b \\u043e\\u0442 IELTS \\ud83e\\udd78\"}, \"text\": \"\\u0443 \\u043c\\u0435\\u043d\\u044f \\u043d\\u0435 \\u0441\\u043c\\u043e\\u0433\\u0443\\u0442 \\u043a\\u0440\\u0435\\u0434\\u0438\\u0442\\u044b \\u0437\\u0430\\u0431\\u0440\\u0430\\u0442\\u044c\"}",
         "2025-01-10 14:23:25.587145",
         "f"
        ],
        [
         "6",
         "28451",
         "-1001358408127",
         "175682846",
         "30363",
         "/spam@konnekt_moder_bot",
         "{\"message_id\": 30363, \"date\": 1736516319, \"chat\": {\"id\": -1001358408127, \"type\": \"supergroup\", \"title\": \"\\u010cVUT FEL\", \"username\": \"cvut_fel\"}, \"message_thread_id\": 30362, \"from_user\": {\"id\": 175682846, \"is_bot\": false, \"first_name\": \"Kate\", \"username\": \"kotokate\"}, \"reply_to_message\": {\"message_id\": 30362, \"date\": 1736514294, \"chat\": {\"id\": -1001358408127, \"type\": \"supergroup\", \"title\": \"\\u010cVUT FEL\", \"username\": \"cvut_fel\"}, \"from_user\": {\"id\": 6615370312, \"is_bot\": false, \"first_name\": \"\\u041b\\u0438\\u0441\\u0430\", \"username\": \"foxwork3\", \"is_premium\": true}, \"text\": \"\\u0414\\u043e \\u043d\\u0430\\u0448\\u043e\\u0457 \\u043a\\u043e\\u043c\\u0430\\u043d\\u0434\\u0438. \\u0413\\u0430\\u0440\\u0430\\u043d\\u0442\\u0443\\u0454\\u043c\\u043e \\u0440\\u043e\\u0437\\u0432\\u0438\\u0442\\u043e\\u043a,\\u043f\\u0456\\u0434\\u0442\\u0440\\u0438\\u043c\\u043a\\u0443 \\u0442\\u0430 \\u0433\\u0456\\u0434\\u043d\\u0443 \\u043e\\u043f\\u043b\\u0430\\u0442\\u0443 \\u043f\\u0440\\u0430\\u0446\\u0456. \\u041d\\u0415 \\u0412\\u0406\\u0414\\u0414\\u0410\\u041b\\u0415\\u041d\\u041e\"}, \"text\": \"/spam@konnekt_moder_bot\", \"entities\": [{\"type\": \"bot_command\", \"offset\": 0, \"length\": 23}]}",
         "2025-01-10 13:38:39.93748",
         "f"
        ],
        [
         "7",
         "28453",
         "-1001684546093",
         "2023802489",
         "189035",
         "Хорошо",
         "{\"message_id\": 189035, \"date\": 1736517131, \"chat\": {\"id\": -1001684546093, \"type\": \"supergroup\", \"title\": \"NTK | \\u0443\\u0447\\u0438\\u043c\\u0441\\u044f \\u0438 \\u0441\\u043f\\u043e\\u0440\\u0442\\u0443\\u0435\\u043c\", \"username\": \"chat_ntk\"}, \"from_user\": {\"id\": 2023802489, \"is_bot\": false, \"first_name\": \"Vanya\", \"username\": \"morskoj_kot1k\", \"is_premium\": true}, \"sender_boost_count\": 4, \"text\": \"\\u0425\\u043e\\u0440\\u043e\\u0448\\u043e\"}",
         "2025-01-10 13:52:11.340339",
         "f"
        ],
        [
         "8",
         "28463",
         "-1001370017010",
         "1260268668",
         "177803",
         "я думаю дадут 4 за сертификат просто",
         "{\"message_id\": 177803, \"date\": 1736519052, \"chat\": {\"id\": -1001370017010, \"type\": \"supergroup\", \"title\": \"\\u010cVUT FIT\", \"username\": \"cvut_fit\", \"is_forum\": true}, \"message_thread_id\": 89045, \"from_user\": {\"id\": 1260268668, \"is_bot\": false, \"first_name\": \"\\u041c\\u0430\\u0440\\u0443\\u0441\\u044f\", \"username\": \"trnvskaya\", \"is_premium\": true}, \"is_topic_message\": true, \"reply_to_message\": {\"message_id\": 89045, \"date\": 1670357918, \"chat\": {\"id\": -1001370017010, \"type\": \"supergroup\", \"title\": \"\\u010cVUT FIT\", \"username\": \"cvut_fit\", \"is_forum\": true}, \"message_thread_id\": 89045, \"from_user\": {\"id\": 268388996, \"is_bot\": false, \"first_name\": \"Azamat\", \"username\": \"vsem_azamat\", \"language_code\": \"en\", \"is_premium\": true}, \"is_topic_message\": true, \"forum_topic_created\": {\"name\": \"\\u0412\\u043e\\u043f\\u0440\\u043e\\u0441 - \\u041e\\u0442\\u0432\\u0435\\u0442\", \"icon_color\": 16478047, \"icon_custom_emoji_id\": \"5377316857231450742\"}}, \"text\": \"\\u044f \\u0434\\u0443\\u043c\\u0430\\u044e \\u0434\\u0430\\u0434\\u0443\\u0442 4 \\u0437\\u0430 \\u0441\\u0435\\u0440\\u0442\\u0438\\u0444\\u0438\\u043a\\u0430\\u0442 \\u043f\\u0440\\u043e\\u0441\\u0442\\u043e\"}",
         "2025-01-10 14:24:13.211165",
         "f"
        ],
        [
         "9",
         "28467",
         "-1001219742780",
         "5742150043",
         "22718",
         "Всем привет, кто-то знает какие открытые вопросы были на фин поднику 7.1. на термине в 16-17?",
         "{\"message_id\": 22718, \"date\": 1736519724, \"chat\": {\"id\": -1001219742780, \"type\": \"supergroup\", \"title\": \"VUT FP\", \"is_forum\": true}, \"message_thread_id\": 14344, \"from_user\": {\"id\": 5742150043, \"is_bot\": false, \"first_name\": \"ttt\"}, \"is_topic_message\": true, \"reply_to_message\": {\"message_id\": 14344, \"date\": 1698864461, \"chat\": {\"id\": -1001219742780, \"type\": \"supergroup\", \"title\": \"VUT FP\", \"is_forum\": true}, \"message_thread_id\": 14344, \"from_user\": {\"id\": 416953681, \"is_bot\": false, \"first_name\": \"yana\", \"username\": \"yesatheist\"}, \"is_topic_message\": true, \"forum_topic_created\": {\"name\": \"2 \\u043a\\u0443\\u0440\\u0441\", \"icon_color\": 13338331}}, \"text\": \"\\u0412\\u0441\\u0435\\u043c \\u043f\\u0440\\u0438\\u0432\\u0435\\u0442, \\u043a\\u0442\\u043e-\\u0442\\u043e \\u0437\\u043d\\u0430\\u0435\\u0442 \\u043a\\u0430\\u043a\\u0438\\u0435 \\u043e\\u0442\\u043a\\u0440\\u044b\\u0442\\u044b\\u0435 \\u0432\\u043e\\u043f\\u0440\\u043e\\u0441\\u044b \\u0431\\u044b\\u043b\\u0438 \\u043d\\u0430 \\u0444\\u0438\\u043d \\u043f\\u043e\\u0434\\u043d\\u0438\\u043a\\u0443 7.1. \\u043d\\u0430 \\u0442\\u0435\\u0440\\u043c\\u0438\\u043d\\u0435 \\u0432 16-17?\"}",
         "2025-01-10 14:35:25.54905",
         "f"
        ]
       ],
       "shape": {
        "columns": 8,
        "rows": 10
       }
      },
      "text/html": [
       "<div>\n",
       "<style scoped>\n",
       "    .dataframe tbody tr th:only-of-type {\n",
       "        vertical-align: middle;\n",
       "    }\n",
       "\n",
       "    .dataframe tbody tr th {\n",
       "        vertical-align: top;\n",
       "    }\n",
       "\n",
       "    .dataframe thead th {\n",
       "        text-align: right;\n",
       "    }\n",
       "</style>\n",
       "<table border=\"1\" class=\"dataframe\">\n",
       "  <thead>\n",
       "    <tr style=\"text-align: right;\">\n",
       "      <th></th>\n",
       "      <th>id</th>\n",
       "      <th>chat_id</th>\n",
       "      <th>user_id</th>\n",
       "      <th>message_id</th>\n",
       "      <th>message</th>\n",
       "      <th>message_info</th>\n",
       "      <th>timestamp</th>\n",
       "      <th>spam</th>\n",
       "    </tr>\n",
       "  </thead>\n",
       "  <tbody>\n",
       "    <tr>\n",
       "      <th>0</th>\n",
       "      <td>28450</td>\n",
       "      <td>-1001370017010</td>\n",
       "      <td>884756749</td>\n",
       "      <td>177797</td>\n",
       "      <td>Мне референтка сказала что как принесёшь серт ...</td>\n",
       "      <td>{\"message_id\": 177797, \"date\": 1736516316, \"ch...</td>\n",
       "      <td>2025-01-10 13:38:36.787444</td>\n",
       "      <td>f</td>\n",
       "    </tr>\n",
       "    <tr>\n",
       "      <th>1</th>\n",
       "      <td>28418</td>\n",
       "      <td>-1001358408127</td>\n",
       "      <td>6615370312</td>\n",
       "      <td>30362</td>\n",
       "      <td>До нашої команди. Гарантуємо розвиток,підтримк...</td>\n",
       "      <td>{\"message_id\": 30362, \"date\": 1736514294, \"cha...</td>\n",
       "      <td>2025-01-10 13:04:55.388717</td>\n",
       "      <td>t</td>\n",
       "    </tr>\n",
       "    <tr>\n",
       "      <th>2</th>\n",
       "      <td>28452</td>\n",
       "      <td>-1001684546093</td>\n",
       "      <td>842671585</td>\n",
       "      <td>189034</td>\n",
       "      <td>И с кофе для меня</td>\n",
       "      <td>{\"message_id\": 189034, \"date\": 1736516974, \"ch...</td>\n",
       "      <td>2025-01-10 13:49:35.320844</td>\n",
       "      <td>f</td>\n",
       "    </tr>\n",
       "    <tr>\n",
       "      <th>3</th>\n",
       "      <td>28457</td>\n",
       "      <td>-1001684546093</td>\n",
       "      <td>232278264</td>\n",
       "      <td>189037</td>\n",
       "      <td>Должно быть несколько, попробую посмотреть онлайн</td>\n",
       "      <td>{\"message_id\": 189037, \"date\": 1736518231, \"ch...</td>\n",
       "      <td>2025-01-10 14:10:32.135793</td>\n",
       "      <td>f</td>\n",
       "    </tr>\n",
       "    <tr>\n",
       "      <th>4</th>\n",
       "      <td>28460</td>\n",
       "      <td>-1001292637469</td>\n",
       "      <td>268388996</td>\n",
       "      <td>97377</td>\n",
       "      <td>/spam@konnekt_moder_bot</td>\n",
       "      <td>{\"message_id\": 97377, \"date\": 1736518665, \"cha...</td>\n",
       "      <td>2025-01-10 14:17:45.726193</td>\n",
       "      <td>f</td>\n",
       "    </tr>\n",
       "    <tr>\n",
       "      <th>5</th>\n",
       "      <td>28462</td>\n",
       "      <td>-1001370017010</td>\n",
       "      <td>1260268668</td>\n",
       "      <td>177802</td>\n",
       "      <td>у меня не смогут кредиты забрать</td>\n",
       "      <td>{\"message_id\": 177802, \"date\": 1736519005, \"ch...</td>\n",
       "      <td>2025-01-10 14:23:25.587145</td>\n",
       "      <td>f</td>\n",
       "    </tr>\n",
       "    <tr>\n",
       "      <th>6</th>\n",
       "      <td>28451</td>\n",
       "      <td>-1001358408127</td>\n",
       "      <td>175682846</td>\n",
       "      <td>30363</td>\n",
       "      <td>/spam@konnekt_moder_bot</td>\n",
       "      <td>{\"message_id\": 30363, \"date\": 1736516319, \"cha...</td>\n",
       "      <td>2025-01-10 13:38:39.93748</td>\n",
       "      <td>f</td>\n",
       "    </tr>\n",
       "    <tr>\n",
       "      <th>7</th>\n",
       "      <td>28453</td>\n",
       "      <td>-1001684546093</td>\n",
       "      <td>2023802489</td>\n",
       "      <td>189035</td>\n",
       "      <td>Хорошо</td>\n",
       "      <td>{\"message_id\": 189035, \"date\": 1736517131, \"ch...</td>\n",
       "      <td>2025-01-10 13:52:11.340339</td>\n",
       "      <td>f</td>\n",
       "    </tr>\n",
       "    <tr>\n",
       "      <th>8</th>\n",
       "      <td>28463</td>\n",
       "      <td>-1001370017010</td>\n",
       "      <td>1260268668</td>\n",
       "      <td>177803</td>\n",
       "      <td>я думаю дадут 4 за сертификат просто</td>\n",
       "      <td>{\"message_id\": 177803, \"date\": 1736519052, \"ch...</td>\n",
       "      <td>2025-01-10 14:24:13.211165</td>\n",
       "      <td>f</td>\n",
       "    </tr>\n",
       "    <tr>\n",
       "      <th>9</th>\n",
       "      <td>28467</td>\n",
       "      <td>-1001219742780</td>\n",
       "      <td>5742150043</td>\n",
       "      <td>22718</td>\n",
       "      <td>Всем привет, кто-то знает какие открытые вопро...</td>\n",
       "      <td>{\"message_id\": 22718, \"date\": 1736519724, \"cha...</td>\n",
       "      <td>2025-01-10 14:35:25.54905</td>\n",
       "      <td>f</td>\n",
       "    </tr>\n",
       "  </tbody>\n",
       "</table>\n",
       "</div>"
      ],
      "text/plain": [
       "      id        chat_id     user_id  message_id  \\\n",
       "0  28450 -1001370017010   884756749      177797   \n",
       "1  28418 -1001358408127  6615370312       30362   \n",
       "2  28452 -1001684546093   842671585      189034   \n",
       "3  28457 -1001684546093   232278264      189037   \n",
       "4  28460 -1001292637469   268388996       97377   \n",
       "5  28462 -1001370017010  1260268668      177802   \n",
       "6  28451 -1001358408127   175682846       30363   \n",
       "7  28453 -1001684546093  2023802489      189035   \n",
       "8  28463 -1001370017010  1260268668      177803   \n",
       "9  28467 -1001219742780  5742150043       22718   \n",
       "\n",
       "                                             message  \\\n",
       "0  Мне референтка сказала что как принесёшь серт ...   \n",
       "1  До нашої команди. Гарантуємо розвиток,підтримк...   \n",
       "2                                  И с кофе для меня   \n",
       "3  Должно быть несколько, попробую посмотреть онлайн   \n",
       "4                            /spam@konnekt_moder_bot   \n",
       "5                   у меня не смогут кредиты забрать   \n",
       "6                            /spam@konnekt_moder_bot   \n",
       "7                                             Хорошо   \n",
       "8               я думаю дадут 4 за сертификат просто   \n",
       "9  Всем привет, кто-то знает какие открытые вопро...   \n",
       "\n",
       "                                        message_info  \\\n",
       "0  {\"message_id\": 177797, \"date\": 1736516316, \"ch...   \n",
       "1  {\"message_id\": 30362, \"date\": 1736514294, \"cha...   \n",
       "2  {\"message_id\": 189034, \"date\": 1736516974, \"ch...   \n",
       "3  {\"message_id\": 189037, \"date\": 1736518231, \"ch...   \n",
       "4  {\"message_id\": 97377, \"date\": 1736518665, \"cha...   \n",
       "5  {\"message_id\": 177802, \"date\": 1736519005, \"ch...   \n",
       "6  {\"message_id\": 30363, \"date\": 1736516319, \"cha...   \n",
       "7  {\"message_id\": 189035, \"date\": 1736517131, \"ch...   \n",
       "8  {\"message_id\": 177803, \"date\": 1736519052, \"ch...   \n",
       "9  {\"message_id\": 22718, \"date\": 1736519724, \"cha...   \n",
       "\n",
       "                    timestamp spam  \n",
       "0  2025-01-10 13:38:36.787444    f  \n",
       "1  2025-01-10 13:04:55.388717    t  \n",
       "2  2025-01-10 13:49:35.320844    f  \n",
       "3  2025-01-10 14:10:32.135793    f  \n",
       "4  2025-01-10 14:17:45.726193    f  \n",
       "5  2025-01-10 14:23:25.587145    f  \n",
       "6   2025-01-10 13:38:39.93748    f  \n",
       "7  2025-01-10 13:52:11.340339    f  \n",
       "8  2025-01-10 14:24:13.211165    f  \n",
       "9   2025-01-10 14:35:25.54905    f  "
      ]
     },
     "execution_count": 19,
     "metadata": {},
     "output_type": "execute_result"
    }
   ],
   "source": [
    "data_path = r\"../messages.csv\"\n",
    "data = pd.read_csv(data_path, sep=';')\n",
    "data.head(10)"
   ]
  },
  {
   "cell_type": "markdown",
   "metadata": {},
   "source": [
    "pre-processing and data cleaning"
   ]
  },
  {
   "cell_type": "code",
   "execution_count": 20,
   "metadata": {},
   "outputs": [],
   "source": [
    "# keep only message and spam columns\n",
    "cleaned_dataset = data[['message', 'spam']]\n",
    "\n",
    "# drop rows with missing values\n",
    "cleaned_dataset = cleaned_dataset.dropna()\n",
    "\n",
    "# transform spam column to binary {0, 1}\n",
    "cleaned_dataset['spam'] = cleaned_dataset['spam'].map({'t': 1, 'f': 0})"
   ]
  },
  {
   "cell_type": "markdown",
   "metadata": {},
   "source": [
    "# Normalization"
   ]
  },
  {
   "cell_type": "code",
   "execution_count": 21,
   "metadata": {},
   "outputs": [],
   "source": [
    "import re\n",
    "import ftfy\n",
    "import unicodedata\n",
    "import textacy.preprocessing as tp"
   ]
  },
  {
   "cell_type": "code",
   "execution_count": null,
   "metadata": {},
   "outputs": [
    {
     "name": "stdout",
     "output_type": "stream",
     "text": [
      "Original: Тестовое сообщение\n",
      "Normalized: тестовое сообщение\n",
      "\n",
      "Original: CafÃ©\n",
      "Normalized: cafe\n",
      "\n",
      "Original: Café and   cafè are the same\n",
      "Normalized: cafe and cafe are the same\n",
      "\n",
      "Original: ＡＢＣ\n",
      "Normalized: abc\n",
      "\n",
      "Original: I'm a café owner @cafe\n",
      "Normalized: i m a cafe owner <l>\n",
      "\n",
      "Original: Café Déjà Vu – 価格: ¥1000\n",
      "Normalized: cafe deja vu  1000\n",
      "\n",
      "Original: Ｆｕｌｌｗｉｄｔｈ Ｔｅｘｔ ＠Ｅｍａｉｌ！\n",
      "Normalized: fullwidth text <l>\n",
      "\n",
      "Original: 🔥🔥 SPAM!!! 🚀💰\n",
      "Normalized: <e><e> spam <e><e>\n",
      "\n",
      "Original: Price: $1,234.50 and email: test@example.com\n",
      "Normalized: price 1 234 50 and email <m>\n",
      "\n"
     ]
    }
   ],
   "source": [
    "# NORMALIZE\n",
    "# IMPORTANT: This function should be applied to the text before any other processing or inference\n",
    "def normalize_text(text, lowercase=True) -> str:\n",
    "    mapper = {\n",
    "        \"emojies\": \"<e>\",\n",
    "        \"mails\": \"<m>\",\n",
    "        \"logins\": \"<l>\",\n",
    "        \"hashtags\": \"<h>\",\n",
    "        \"commands\": \"<c>\",\n",
    "        \"urls\": \"<u>\",\n",
    "        \"phone_numbers\": \"<p>\"\n",
    "    }\n",
    "    # Fix unicode Issues (e.g., \"CafÃ©\" → \"Café\")\n",
    "    text = ftfy.fix_text(text)\n",
    "\n",
    "    # Normalize diacritics and symbols (e.g., \"cafè\" → \"cafe\")\n",
    "    text = unicodedata.normalize('NFD', text)\n",
    "\n",
    "    # Replace special characters (emojies, logins, hashtags, etc.)\n",
    "    text = tp.replace.emojis(text, mapper[\"emojies\"])\n",
    "    text = tp.replace.emails(text, mapper[\"mails\"])\n",
    "    text = tp.replace.urls(text, mapper[\"urls\"])\n",
    "    text = tp.replace.hashtags(text, mapper[\"hashtags\"])\n",
    "    text = tp.replace.user_handles(text, mapper[\"logins\"])\n",
    "    text = tp.replace.phone_numbers(text, mapper[\"logins\"])\n",
    "\n",
    "    # Remove punctuation and extra whitespace\n",
    "    text = tp.remove.punctuation(text) \n",
    "    text = tp.normalize.whitespace(text)\n",
    "\n",
    "    # Keep only Cyrillic and Latin characters\n",
    "    text = re.sub(r'[^a-zA-Zа-яА-ЯёЁ0-9\\s.,!?<>]', '', text)\n",
    "\n",
    "    # Convert to lowercase if needed\n",
    "    return text.lower() if lowercase else text\n",
    "\n",
    "samples = [\n",
    "    \"Тестовое сообщение\",\n",
    "    \"CafÃ©\",\n",
    "    \"Café and   cafè are the same\",\n",
    "    \"ＡＢＣ\",\n",
    "    \"I'm a café owner @cafe\",\n",
    "    \"Café Déjà Vu – 価格: ¥1000\",\n",
    "    \"Ｆｕｌｌｗｉｄｔｈ Ｔｅｘｔ ＠Ｅｍａｉｌ！\",\n",
    "    \"🔥🔥 SPAM!!! 🚀💰\",\n",
    "    \"Price: $1,234.50 and email: test@example.com\",\n",
    "]\n",
    "for sample in samples:\n",
    "    print(f\"Original: {sample}\")\n",
    "    print(f\"Normalized: {normalize_text(sample, lowercase=True)}\")\n",
    "    print()"
   ]
  },
  {
   "cell_type": "code",
   "execution_count": 23,
   "metadata": {},
   "outputs": [],
   "source": [
    "def print_stats(data):\n",
    "    print(f\"Total: {len(data)}\")\n",
    "    print(f\"Spam: {len(data[data['spam'] == 1])}\")\n",
    "    print(f\"Ham: {len(data[data['spam'] == 0])}\")"
   ]
  },
  {
   "cell_type": "code",
   "execution_count": 24,
   "metadata": {},
   "outputs": [
    {
     "name": "stdout",
     "output_type": "stream",
     "text": [
      "Total: 52324\n",
      "Spam: 1255\n",
      "Ham: 51069\n"
     ]
    }
   ],
   "source": [
    "# apply normalization to the whole dataset\n",
    "cleaned_dataset['message'] = cleaned_dataset['message'].apply(normalize_text)\n",
    "print_stats(cleaned_dataset)"
   ]
  },
  {
   "cell_type": "code",
   "execution_count": 25,
   "metadata": {},
   "outputs": [
    {
     "name": "stdout",
     "output_type": "stream",
     "text": [
      "Total: 44110\n",
      "Spam: 830\n",
      "Ham: 43280\n"
     ]
    }
   ],
   "source": [
    "# remove empty rows\n",
    "cleaned_dataset = cleaned_dataset.dropna()\n",
    "\n",
    "# remove rows with empty message\n",
    "cleaned_dataset = cleaned_dataset[cleaned_dataset['message'].str.len() > 0]\n",
    "\n",
    "# If at least one message of duplicates plenty is spam, then all of them are spam\n",
    "cleaned_dataset = cleaned_dataset.groupby('message').agg({'spam': 'max'}).reset_index()\n",
    "\n",
    "# remove duplicates, keep the first message\n",
    "cleaned_dataset = cleaned_dataset.drop_duplicates(subset='message', keep='first')\n",
    "\n",
    "print_stats(cleaned_dataset)"
   ]
  },
  {
   "cell_type": "code",
   "execution_count": 26,
   "metadata": {},
   "outputs": [
    {
     "data": {
      "application/vnd.microsoft.datawrangler.viewer.v0+json": {
       "columns": [
        {
         "name": "index",
         "rawType": "int64",
         "type": "integer"
        },
        {
         "name": "text",
         "rawType": "object",
         "type": "string"
        },
        {
         "name": "label",
         "rawType": "int64",
         "type": "integer"
        }
       ],
       "conversionMethod": "pd.DataFrame",
       "ref": "a62e28b0-b16b-4a03-a362-4bc361421a13",
       "rows": [
        [
         "0",
         "\n\n\nисточник траффика <e>\n<e> наша база 400 000 чатов снгзаграница\n<e> тематики баз для рассылки заработок гемблинг крипта темки треидинг тапалки поиск работы объявления и т п \nлъем на\n<e> каналы\n<e> чаты\n<e> боты\n<e> тапалки\n<e> саиты \n<e> заявки\n<e> прочее\nобъемы от 75 людеи в день\n<e>только целевая живая аудитория \nбольшои опыт в сфере <e> трафика \n<e><e><e><e><e><e><e><e><e><e><e>\n<e> <e><e><e><e><e><e><e><e><e>\nпиши в лс дам свои рабочии акк<e>",
         "1"
        ],
        [
         "1",
         "\n\n<e> <e><e><e><e><e><e>\n<e><e><e><e><e><e><e>\n<e> каждыи день <e>\nприбыль <e><e><e> <e><e><e>\nhaш интepec нeбoльшoи пpoцeнт c baшeи пpибыли\noбyчaeм вcex c нyля \n<e><e> <e><e> <e><e><e><e><e>\n<e> <e><e><e><e><e>\nпo bсem boпpoсam <l>",
         "1"
        ],
        [
         "2",
         "\n\n<e><e><e><e><e><e><e> <e><e><e><e><e>\n<e><e><e><e><e><e><e><e> \n2<e>4 <e><e><e><e> <e><e><e><e><e><e> \n<e><e><e><e><e><e><e> <e> <e><e><e><e>\n<e><e><e><e> <e>",
         "1"
        ],
        [
         "3",
         "\n \n \n 300 <e><e><e>\n <e>  ",
         "1"
        ],
        [
         "4",
         "\n<e><e><e><e><e> <e><e>\n<e><e><e><e><e><e>\n<e><e><e><e><e><e><e><e><e><e><e>\n<e><e><e><e><e><e> <e><e><e><e>\n\n\n\n<e><e><e><e><e><e><e><e>\n<e><e><e><e><e><e><e><e>\n\n<e> <l>",
         "1"
        ],
        [
         "5",
         "\n<e><e><e><e><e><e>\n <e><e> <e><e> <e><e><e><e> \n<e><e><e><e><e> <e> <e>\n <e><e><e><e><e><e>\n<e><e><e><e><e><e><e><e><e><e><e> \n<e><e><e><e><e><e><e><e><e><e><e> \n <e>  ",
         "1"
        ],
        [
         "6",
         "\n<e><e><e><e><e><e><e><e><e><e>\n<e><e><e><e><e><e><e><e><e><e>\n<e><e><e><e><e>\n<e><e><e><e>\n<e><e> <e><e><e><e>\n<e> <e><e><e><e>\n<e><e><e><e><e><e><e><e><e><e><e>\n\n \n<e><e><e><e><e><e>\n<e><e><e><e><e>\n<e><e><e><e><e><e><e><e><e>\n<e> <l>",
         "1"
        ],
        [
         "7",
         "\nдаже такои дурачок в физике как я написал тест на 20",
         "0"
        ],
        [
         "8",
         "\nесли не это не последнии термин зкоушки на опаковани но лучше стараться выучить хотя б на минималку особенно если большого опыта списывания нет \nесли не сдашь поидешь на опаковани если поимают дисциплинарка \nсама выбираю вариант упороться но вызубрить",
         "0"
        ],
        [
         "9",
         "\nпросто возле fakulta strojni висит почему то",
         "0"
        ]
       ],
       "shape": {
        "columns": 2,
        "rows": 10
       }
      },
      "text/html": [
       "<div>\n",
       "<style scoped>\n",
       "    .dataframe tbody tr th:only-of-type {\n",
       "        vertical-align: middle;\n",
       "    }\n",
       "\n",
       "    .dataframe tbody tr th {\n",
       "        vertical-align: top;\n",
       "    }\n",
       "\n",
       "    .dataframe thead th {\n",
       "        text-align: right;\n",
       "    }\n",
       "</style>\n",
       "<table border=\"1\" class=\"dataframe\">\n",
       "  <thead>\n",
       "    <tr style=\"text-align: right;\">\n",
       "      <th></th>\n",
       "      <th>text</th>\n",
       "      <th>label</th>\n",
       "    </tr>\n",
       "  </thead>\n",
       "  <tbody>\n",
       "    <tr>\n",
       "      <th>0</th>\n",
       "      <td>\\n\\n\\nисточник траффика &lt;e&gt;\\n&lt;e&gt; наша база 400...</td>\n",
       "      <td>1</td>\n",
       "    </tr>\n",
       "    <tr>\n",
       "      <th>1</th>\n",
       "      <td>\\n\\n&lt;e&gt; &lt;e&gt;&lt;e&gt;&lt;e&gt;&lt;e&gt;&lt;e&gt;&lt;e&gt;\\n&lt;e&gt;&lt;e&gt;&lt;e&gt;&lt;e&gt;&lt;e&gt;&lt;e&gt;...</td>\n",
       "      <td>1</td>\n",
       "    </tr>\n",
       "    <tr>\n",
       "      <th>2</th>\n",
       "      <td>\\n\\n&lt;e&gt;&lt;e&gt;&lt;e&gt;&lt;e&gt;&lt;e&gt;&lt;e&gt;&lt;e&gt; &lt;e&gt;&lt;e&gt;&lt;e&gt;&lt;e&gt;&lt;e&gt;\\n&lt;e&gt;...</td>\n",
       "      <td>1</td>\n",
       "    </tr>\n",
       "    <tr>\n",
       "      <th>3</th>\n",
       "      <td>\\n \\n \\n 300 &lt;e&gt;&lt;e&gt;&lt;e&gt;\\n &lt;e&gt;</td>\n",
       "      <td>1</td>\n",
       "    </tr>\n",
       "    <tr>\n",
       "      <th>4</th>\n",
       "      <td>\\n&lt;e&gt;&lt;e&gt;&lt;e&gt;&lt;e&gt;&lt;e&gt; &lt;e&gt;&lt;e&gt;\\n&lt;e&gt;&lt;e&gt;&lt;e&gt;&lt;e&gt;&lt;e&gt;&lt;e&gt;\\n...</td>\n",
       "      <td>1</td>\n",
       "    </tr>\n",
       "    <tr>\n",
       "      <th>5</th>\n",
       "      <td>\\n&lt;e&gt;&lt;e&gt;&lt;e&gt;&lt;e&gt;&lt;e&gt;&lt;e&gt;\\n &lt;e&gt;&lt;e&gt; &lt;e&gt;&lt;e&gt; &lt;e&gt;&lt;e&gt;&lt;e&gt;...</td>\n",
       "      <td>1</td>\n",
       "    </tr>\n",
       "    <tr>\n",
       "      <th>6</th>\n",
       "      <td>\\n&lt;e&gt;&lt;e&gt;&lt;e&gt;&lt;e&gt;&lt;e&gt;&lt;e&gt;&lt;e&gt;&lt;e&gt;&lt;e&gt;&lt;e&gt;\\n&lt;e&gt;&lt;e&gt;&lt;e&gt;&lt;e&gt;...</td>\n",
       "      <td>1</td>\n",
       "    </tr>\n",
       "    <tr>\n",
       "      <th>7</th>\n",
       "      <td>\\nдаже такои дурачок в физике как я написал те...</td>\n",
       "      <td>0</td>\n",
       "    </tr>\n",
       "    <tr>\n",
       "      <th>8</th>\n",
       "      <td>\\nесли не это не последнии термин зкоушки на о...</td>\n",
       "      <td>0</td>\n",
       "    </tr>\n",
       "    <tr>\n",
       "      <th>9</th>\n",
       "      <td>\\nпросто возле fakulta strojni висит почему то</td>\n",
       "      <td>0</td>\n",
       "    </tr>\n",
       "  </tbody>\n",
       "</table>\n",
       "</div>"
      ],
      "text/plain": [
       "                                                text  label\n",
       "0  \\n\\n\\nисточник траффика <e>\\n<e> наша база 400...      1\n",
       "1  \\n\\n<e> <e><e><e><e><e><e>\\n<e><e><e><e><e><e>...      1\n",
       "2  \\n\\n<e><e><e><e><e><e><e> <e><e><e><e><e>\\n<e>...      1\n",
       "3                     \\n \\n \\n 300 <e><e><e>\\n <e>        1\n",
       "4  \\n<e><e><e><e><e> <e><e>\\n<e><e><e><e><e><e>\\n...      1\n",
       "5  \\n<e><e><e><e><e><e>\\n <e><e> <e><e> <e><e><e>...      1\n",
       "6  \\n<e><e><e><e><e><e><e><e><e><e>\\n<e><e><e><e>...      1\n",
       "7  \\nдаже такои дурачок в физике как я написал те...      0\n",
       "8  \\nесли не это не последнии термин зкоушки на о...      0\n",
       "9     \\nпросто возле fakulta strojni висит почему то      0"
      ]
     },
     "execution_count": 26,
     "metadata": {},
     "output_type": "execute_result"
    }
   ],
   "source": [
    "# rename message to text and spam to label\n",
    "cleaned_dataset = cleaned_dataset.rename(columns={'message': 'text', 'spam': 'label'})\n",
    "cleaned_dataset.head(10)"
   ]
  },
  {
   "cell_type": "code",
   "execution_count": null,
   "metadata": {},
   "outputs": [],
   "source": [
    "# Save as a clean dataset\n",
    "cleaned_dataset.to_csv('../cleaned_dataset.csv', index=False)"
   ]
  }
 ],
 "metadata": {
  "kernelspec": {
   "display_name": "test",
   "language": "python",
   "name": "python3"
  },
  "language_info": {
   "codemirror_mode": {
    "name": "ipython",
    "version": 3
   },
   "file_extension": ".py",
   "mimetype": "text/x-python",
   "name": "python",
   "nbconvert_exporter": "python",
   "pygments_lexer": "ipython3",
   "version": "3.12.9"
  }
 },
 "nbformat": 4,
 "nbformat_minor": 2
}
